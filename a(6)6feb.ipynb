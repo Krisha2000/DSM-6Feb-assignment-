{
 "cells": [
  {
   "cell_type": "markdown",
   "id": "06d30be5-aaf8-4a71-939f-9639b9724829",
   "metadata": {},
   "source": [
    "# Quetion :- 1"
   ]
  },
  {
   "cell_type": "code",
   "execution_count": 2,
   "id": "bba4b8d1-6c02-4602-b721-9320fe9d6f9d",
   "metadata": {},
   "outputs": [],
   "source": [
    "list1 = [1,2,3,4, [44,55,66, True], False, (34,56,78,89,34), {1,2,3,3,2,1}, {1:34, \"key2\": [55, 67, 78, 89], 4: (45,\n",
    "22, 61, 34)}, [56, 'data science'], 'Machine Learning']"
   ]
  },
  {
   "cell_type": "code",
   "execution_count": 44,
   "id": "fcb0cc10-943f-497c-9f98-afd1d2d62114",
   "metadata": {},
   "outputs": [
    {
     "name": "stdout",
     "output_type": "stream",
     "text": [
      "214663680\n"
     ]
    }
   ],
   "source": [
    "def flat_list(list1):\n",
    "    flat_list = []\n",
    "    for i in list1:\n",
    "        if type(i) == list:\n",
    "            flat_list.extend(i)\n",
    "        else:\n",
    "            flat_list.append(i)\n",
    "    return flat_list\n",
    "\n",
    "def product_of_list(list1):\n",
    "    product = 1\n",
    "    for i in list1:\n",
    "        if type(i) == int:\n",
    "            product *= i\n",
    "    return product\n",
    "\n",
    "\n",
    "\n",
    "print(product_of_list(flat_list(list1)))"
   ]
  },
  {
   "cell_type": "markdown",
   "id": "4f77aaab-4126-4432-a134-710d5ff94456",
   "metadata": {},
   "source": [
    "# Quetion :-2"
   ]
  },
  {
   "cell_type": "code",
   "execution_count": 45,
   "id": "db36e462-2575-4590-b3eb-a1cf4f8abe22",
   "metadata": {},
   "outputs": [
    {
     "name": "stdin",
     "output_type": "stream",
     "text": [
      "Enter the message:  I want to become a Data Scientist.\n"
     ]
    },
    {
     "name": "stdout",
     "output_type": "stream",
     "text": [
      "Encrypted message: \n",
      "F$t^kq$ql$_b`ljb$^$A^q^$P`fbkqfpq+\n"
     ]
    }
   ],
   "source": [
    "def encrypt(message):\n",
    "    encrypted_message = \"\"\n",
    "    for i in message:\n",
    "        if i == \" \":\n",
    "            encrypted_message += \"$\"\n",
    "        elif i == \"z\":\n",
    "            encrypted_message += \"a\"\n",
    "        elif i == \"y\":\n",
    "            encrypted_message += \"b\"\n",
    "        elif i == \"x\":\n",
    "            encrypted_message += \"c\"\n",
    "        else:\n",
    "            encrypted_message += chr(ord(i) - 3)\n",
    "    return encrypted_message\n",
    "\n",
    "message = input(\"Enter the message: \")\n",
    "print(\"Encrypted message: \")\n",
    "print(encrypt(message))"
   ]
  },
  {
   "cell_type": "code",
   "execution_count": null,
   "id": "1f7b7f16-4999-4556-842e-2972c6cf77fd",
   "metadata": {},
   "outputs": [],
   "source": [
    "Queti"
   ]
  }
 ],
 "metadata": {
  "kernelspec": {
   "display_name": "Python 3 (ipykernel)",
   "language": "python",
   "name": "python3"
  },
  "language_info": {
   "codemirror_mode": {
    "name": "ipython",
    "version": 3
   },
   "file_extension": ".py",
   "mimetype": "text/x-python",
   "name": "python",
   "nbconvert_exporter": "python",
   "pygments_lexer": "ipython3",
   "version": "3.10.8"
  }
 },
 "nbformat": 4,
 "nbformat_minor": 5
}
